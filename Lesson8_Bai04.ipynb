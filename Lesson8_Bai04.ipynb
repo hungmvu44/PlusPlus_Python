{
  "nbformat": 4,
  "nbformat_minor": 0,
  "metadata": {
    "colab": {
      "name": "Lesson8_Bai04.ipynb",
      "provenance": [],
      "authorship_tag": "ABX9TyNHhD8LtJpZoFio3R8jUohT",
      "include_colab_link": true
    },
    "kernelspec": {
      "name": "python3",
      "display_name": "Python 3"
    },
    "language_info": {
      "name": "python"
    }
  },
  "cells": [
    {
      "cell_type": "markdown",
      "metadata": {
        "id": "view-in-github",
        "colab_type": "text"
      },
      "source": [
        "<a href=\"https://colab.research.google.com/github/hungmvu44/PlusPlus_Python/blob/main/Lesson8_Bai04.ipynb\" target=\"_parent\"><img src=\"https://colab.research.google.com/assets/colab-badge.svg\" alt=\"Open In Colab\"/></a>"
      ]
    },
    {
      "cell_type": "code",
      "metadata": {
        "id": "HatvmUFpowVC"
      },
      "source": [
        ""
      ],
      "execution_count": null,
      "outputs": []
    },
    {
      "cell_type": "markdown",
      "metadata": {
        "id": "MbDIRg8qow1c"
      },
      "source": [
        "**Bài 04. Viết chương trình lấy ra các phần tử key-value xuất hiện trong cả 2 dict**"
      ]
    },
    {
      "cell_type": "code",
      "metadata": {
        "colab": {
          "base_uri": "https://localhost:8080/"
        },
        "id": "XapEp9J5ozrJ",
        "outputId": "d8f10e7b-8b02-477f-ebf3-8afe64f60eba"
      },
      "source": [
        "dict1 = {\n",
        "    1: 3,\n",
        "    2: 5,\n",
        "    3: 7\n",
        "}\n",
        "\n",
        "dict2 = {\n",
        "    4: 6,\n",
        "    5: 9,\n",
        "    6: 20\n",
        "}\n",
        "\n",
        "for key in dict1:\n",
        "  if key in dict2:\n",
        "  \n",
        "\n",
        "  "
      ],
      "execution_count": null,
      "outputs": [
        {
          "output_type": "stream",
          "name": "stdout",
          "text": [
            "{1: 3, 2: 5, 3: 7, 4: 6, 5: 9, 6: 20}\n"
          ]
        }
      ]
    },
    {
      "cell_type": "code",
      "metadata": {
        "id": "AYbeTCa0ufJi"
      },
      "source": [
        ""
      ],
      "execution_count": null,
      "outputs": []
    }
  ]
}